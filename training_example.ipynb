{
 "cells": [
  {
   "cell_type": "code",
   "execution_count": null,
   "metadata": {},
   "outputs": [],
   "source": [
    "import os\n",
    "\n",
    "os.environ[\"CUDA_VISIBLE_DEVICES\"] = str(0)\n",
    "\n",
    "import deep_light\n",
    "from deep_light.predictLumMaps import train_model, analyze_model, generate_train_val_data, relative_err\n",
    "from deep_light.random_selection_threeInputs import select_test_samples\n",
    "\n",
    "\n"
   ]
  },
  {
   "cell_type": "code",
   "execution_count": null,
   "metadata": {},
   "outputs": [],
   "source": [
    "data_root='W:/ALL_DATA'\n",
    "kwargs = {'data_root': data_root,\n",
    "              'RETRAIN': False,\n",
    "              'LOSS_FUNCTION_TYPE': relative_err,\n",
    "              'LOG_BOOL': True,\n",
    "              'SKYMAP_BOOL': False,\n",
    "              'MODEL_TYPE': \"Dense\",\n",
    "              'GAMMA_VALUE': 1.5,\n",
    "              'LOG_BASE_VALUE': 10,\n",
    "              'NUM_CLUSTERS': 250,\n",
    "              'LATITUDE': 47,\n",
    "              'LONGITUDE': 122,\n",
    "              'SM': 120}\n",
    "    \n"
   ]
  },
  {
   "cell_type": "code",
   "execution_count": null,
   "metadata": {},
   "outputs": [],
   "source": [
    "select_test_samples(data_root)"
   ]
  },
  {
   "cell_type": "code",
   "execution_count": null,
   "metadata": {},
   "outputs": [],
   "source": [
    "generate_train_val_data(**kwargs)"
   ]
  },
  {
   "cell_type": "code",
   "execution_count": null,
   "metadata": {},
   "outputs": [],
   "source": [
    "train_model(**kwargs)"
   ]
  },
  {
   "cell_type": "code",
   "execution_count": null,
   "metadata": {},
   "outputs": [],
   "source": [
    "analyze_model(**kwargs)"
   ]
  },
  {
   "cell_type": "code",
   "execution_count": null,
   "metadata": {},
   "outputs": [],
   "source": [
    "import glob\n",
    "import imageio\n",
    "import matplotlib as mpl\n",
    "import matplotlib.pyplot as plt\n",
    "\n",
    "mpl.rcParams.update(mpl.rcParamsDefault)\n",
    "\n",
    "fig, ax = plt.subplots(nrows=5, figsize=(50, 30))\n",
    "\n",
    "for i, f in enumerate(glob.glob('results/results_10000/*.png')[:5]) :\n",
    "    ax[i].imshow(imageio.imread(f))\n",
    "        \n"
   ]
  }
 ],
 "metadata": {
  "kernelspec": {
   "display_name": "Python 3",
   "language": "python",
   "name": "python3"
  },
  "language_info": {
   "codemirror_mode": {
    "name": "ipython",
    "version": 3
   },
   "file_extension": ".py",
   "mimetype": "text/x-python",
   "name": "python",
   "nbconvert_exporter": "python",
   "pygments_lexer": "ipython3",
   "version": "3.7.7"
  }
 },
 "nbformat": 4,
 "nbformat_minor": 4
}
